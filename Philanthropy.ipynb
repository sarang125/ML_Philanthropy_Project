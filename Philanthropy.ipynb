{
 "cells": [
  {
   "cell_type": "code",
   "execution_count": 2,
   "metadata": {},
   "outputs": [
    {
     "name": "stderr",
     "output_type": "stream",
     "text": [
      "C:\\Users\\SARANG\\Anaconda3\\lib\\site-packages\\IPython\\core\\interactiveshell.py:3049: DtypeWarning: Columns (18,19,21,22,23) have mixed types. Specify dtype option on import or set low_memory=False.\n",
      "  interactivity=interactivity, compiler=compiler, result=result)\n"
     ]
    }
   ],
   "source": [
    "import pandas as pd\n",
    "data = pd.read_csv('Base_Cleaned_Deleted_15thApr.csv')"
   ]
  },
  {
   "cell_type": "code",
   "execution_count": 86,
   "metadata": {
    "scrolled": true
   },
   "outputs": [
    {
     "data": {
      "text/plain": [
       "Index(['ID_NUMBER', 'FACULTY_STAFF_IND', 'MARITAL_STATUS', 'GENDER',\n",
       "       'AGE_BRACKET', 'STATE_CODE', 'ZIP_CODE', 'STUDENT_ACTIVITY_PARTICIPANT',\n",
       "       'DEGREE_CODE1', 'DEGREE_YEAR1', 'SCHOOL1', 'DEGREE_CODE2',\n",
       "       'DEGREE_YEAR2', 'SCHOOL2', 'DONOR_CATEGORY', 'LIFETIME_RECOGNITION_AMT',\n",
       "       'NO_YRS_GIVING', 'LAST_GIFT_AMOUNT', 'LAST_GIFT_DATE',\n",
       "       'FIRST_GIFT_DATE', 'FIRST_GIFT_AMOUNT', 'GIVING_SCHOOL_UNIT1',\n",
       "       'GIVING_SCHOOL_UNIT2', 'GIVING_SCHOOL_UNIT3', 'ENGAGEMENT_SCORE',\n",
       "       'GIFT_AMOUNT_2018_Cleaned', 'GIFT_AMOUNT_2017_Cleaned',\n",
       "       'GIFT_AMOUNT_2016_Cleaned', 'GIFT_AMOUNT_2015_Cleaned',\n",
       "       'GIFT_AMOUNT_2014_Cleaned', 'GIFT_AMOUNT_2013_Cleaned',\n",
       "       'GIFT_AMOUNT_2012_Cleaned', 'GIFT_AMOUNT_2011_Cleaned',\n",
       "       'GIFT_AMOUNT_2010_Cleaned', 'GIFT_AMOUNT_2009_Cleaned',\n",
       "       'GIFT_AMOUNT_2008_Cleaned', 'NO_EVENTS_2018_Cleaned',\n",
       "       'NO_EVENTS_2017_Cleaned', 'NO_EVENTS_2016_Cleaned',\n",
       "       'NO_EVENTS_2015_Cleaned', 'NO_EVENTS_2014_Cleaned',\n",
       "       'NO_EVENTS_2013_Cleaned', 'NO_EVENTS_2012_Cleaned',\n",
       "       'NO_EVENTS_2011_Cleaned', 'NO_EVENTS_2010_Cleaned',\n",
       "       'NO_EVENTS_2009_Cleaned', 'NO_EVENTS_2008_Cleaned', 'DONATED_1_0_2018',\n",
       "       'DONATED_1_0_2017', 'DONATED_1_0_2016', 'DONATED_1_0_2015',\n",
       "       'DONATED_1_0_2014', 'DONATED_1_0_2013', 'DONATED_1_0_2012',\n",
       "       'DONATED_1_0_2011', 'DONATED_1_0_2010', 'DONATED_1_0_2009',\n",
       "       'DONATED_1_0_2008', 'Time_Since_Last_Gift_Days'],\n",
       "      dtype='object')"
      ]
     },
     "execution_count": 86,
     "metadata": {},
     "output_type": "execute_result"
    }
   ],
   "source": [
    "data.columns"
   ]
  },
  {
   "cell_type": "code",
   "execution_count": 3,
   "metadata": {},
   "outputs": [],
   "source": [
    "data = data.drop(['ID_NUMBER', 'FACULTY_STAFF_IND', 'STUDENT_ACTIVITY_PARTICIPANT',\n",
    "       'LIFETIME_RECOGNITION_AMT','LAST_GIFT_AMOUNT', 'LAST_GIFT_DATE',\n",
    "       'FIRST_GIFT_DATE', 'FIRST_GIFT_AMOUNT','GIVING_SCHOOL_UNIT2',\n",
    "        'GIVING_SCHOOL_UNIT3', 'ENGAGEMENT_SCORE','DEGREE_CODE2', 'DEGREE_YEAR2',\n",
    "        'SCHOOL2','NO_EVENTS_2013_Cleaned', 'NO_EVENTS_2012_Cleaned',\n",
    "       'NO_EVENTS_2011_Cleaned', 'NO_EVENTS_2010_Cleaned',\n",
    "       'NO_EVENTS_2009_Cleaned', 'NO_EVENTS_2008_Cleaned', \n",
    "       'GIFT_AMOUNT_2018_Cleaned', 'GIFT_AMOUNT_2017_Cleaned',\n",
    "       'GIFT_AMOUNT_2016_Cleaned', 'GIFT_AMOUNT_2015_Cleaned',\n",
    "       'GIFT_AMOUNT_2014_Cleaned', 'GIFT_AMOUNT_2013_Cleaned',\n",
    "       'GIFT_AMOUNT_2012_Cleaned', 'GIFT_AMOUNT_2011_Cleaned',\n",
    "       'GIFT_AMOUNT_2010_Cleaned', 'GIFT_AMOUNT_2009_Cleaned',\n",
    "       'GIFT_AMOUNT_2008_Cleaned','DONATED_1_0_2013', 'DONATED_1_0_2012',\n",
    "       'DONATED_1_0_2011', 'DONATED_1_0_2010', 'DONATED_1_0_2009',\n",
    "       'DONATED_1_0_2008'],axis=1)"
   ]
  },
  {
   "cell_type": "code",
   "execution_count": 88,
   "metadata": {},
   "outputs": [
    {
     "data": {
      "text/plain": [
       "Index(['MARITAL_STATUS', 'GENDER', 'AGE_BRACKET', 'STATE_CODE', 'ZIP_CODE',\n",
       "       'DEGREE_CODE1', 'DEGREE_YEAR1', 'SCHOOL1', 'DONOR_CATEGORY',\n",
       "       'NO_YRS_GIVING', 'GIVING_SCHOOL_UNIT1', 'NO_EVENTS_2018_Cleaned',\n",
       "       'NO_EVENTS_2017_Cleaned', 'NO_EVENTS_2016_Cleaned',\n",
       "       'NO_EVENTS_2015_Cleaned', 'NO_EVENTS_2014_Cleaned', 'DONATED_1_0_2018',\n",
       "       'DONATED_1_0_2017', 'DONATED_1_0_2016', 'DONATED_1_0_2015',\n",
       "       'DONATED_1_0_2014', 'Time_Since_Last_Gift_Days'],\n",
       "      dtype='object')"
      ]
     },
     "execution_count": 88,
     "metadata": {},
     "output_type": "execute_result"
    }
   ],
   "source": [
    "data.columns"
   ]
  },
  {
   "cell_type": "code",
   "execution_count": 4,
   "metadata": {},
   "outputs": [
    {
     "data": {
      "text/plain": [
       "Index(['AGE_BRACKET', 'DEGREE_YEAR1', 'NO_YRS_GIVING',\n",
       "       'NO_EVENTS_2018_Cleaned', 'NO_EVENTS_2017_Cleaned',\n",
       "       'NO_EVENTS_2016_Cleaned', 'NO_EVENTS_2015_Cleaned',\n",
       "       'NO_EVENTS_2014_Cleaned', 'DONATED_1_0_2018', 'DONATED_1_0_2017',\n",
       "       ...\n",
       "       'GIVING_SCHOOL_UNIT1_Pharmacy and Pharmaceutical Sciences',\n",
       "       'GIVING_SCHOOL_UNIT1_Philanthropy and Alumni Engagement',\n",
       "       'GIVING_SCHOOL_UNIT1_President', 'GIVING_SCHOOL_UNIT1_Provost',\n",
       "       'GIVING_SCHOOL_UNIT1_Public Health and Health Professions',\n",
       "       'GIVING_SCHOOL_UNIT1_School of Informatics',\n",
       "       'GIVING_SCHOOL_UNIT1_Social Work', 'GIVING_SCHOOL_UNIT1_Student Life',\n",
       "       'GIVING_SCHOOL_UNIT1_University Support Services',\n",
       "       'GIVING_SCHOOL_UNIT1_University Wide'],\n",
       "      dtype='object', length=7865)"
      ]
     },
     "execution_count": 4,
     "metadata": {},
     "output_type": "execute_result"
    }
   ],
   "source": [
    "data = pd.get_dummies(data)\n",
    "data.columns"
   ]
  },
  {
   "cell_type": "markdown",
   "metadata": {},
   "source": [
    "# DecisionTree Classifier"
   ]
  },
  {
   "cell_type": "code",
   "execution_count": 7,
   "metadata": {},
   "outputs": [],
   "source": [
    "from sklearn.tree import DecisionTreeClassifier\n",
    "from sklearn.model_selection import train_test_split\n",
    "from sklearn.metrics import accuracy_score"
   ]
  },
  {
   "cell_type": "code",
   "execution_count": 5,
   "metadata": {},
   "outputs": [],
   "source": [
    "X = data.drop('DONATED_1_0_2018',axis=1)\n",
    "y = data.DONATED_1_0_2018"
   ]
  },
  {
   "cell_type": "code",
   "execution_count": 8,
   "metadata": {},
   "outputs": [],
   "source": [
    "X_train,X_test,y_train,y_test = train_test_split(X, y, test_size = 0.3, stratify = y, random_state = 1)"
   ]
  },
  {
   "cell_type": "code",
   "execution_count": 97,
   "metadata": {},
   "outputs": [
    {
     "name": "stdout",
     "output_type": "stream",
     "text": [
      "(24641, 7864) (10561, 7864) (24641,) (10561,)\n"
     ]
    }
   ],
   "source": [
    "print(X_train.shape,X_test.shape,y_train.shape,y_test.shape)"
   ]
  },
  {
   "cell_type": "code",
   "execution_count": 92,
   "metadata": {},
   "outputs": [],
   "source": [
    "dt = DecisionTreeClassifier(random_state=1)"
   ]
  },
  {
   "cell_type": "code",
   "execution_count": 98,
   "metadata": {},
   "outputs": [
    {
     "data": {
      "text/plain": [
       "DecisionTreeClassifier(class_weight=None, criterion='gini', max_depth=None,\n",
       "            max_features=None, max_leaf_nodes=None,\n",
       "            min_impurity_decrease=0.0, min_impurity_split=None,\n",
       "            min_samples_leaf=1, min_samples_split=2,\n",
       "            min_weight_fraction_leaf=0.0, presort=False, random_state=1,\n",
       "            splitter='best')"
      ]
     },
     "execution_count": 98,
     "metadata": {},
     "output_type": "execute_result"
    }
   ],
   "source": [
    "dt.fit(X_train,y_train)"
   ]
  },
  {
   "cell_type": "code",
   "execution_count": 104,
   "metadata": {},
   "outputs": [],
   "source": [
    "y_pred = dt.predict(X_test)"
   ]
  },
  {
   "cell_type": "code",
   "execution_count": 106,
   "metadata": {},
   "outputs": [
    {
     "data": {
      "text/plain": [
       "1.0"
      ]
     },
     "execution_count": 106,
     "metadata": {},
     "output_type": "execute_result"
    }
   ],
   "source": [
    "accuracy_score(y_test, y_pred)"
   ]
  },
  {
   "cell_type": "code",
   "execution_count": 123,
   "metadata": {},
   "outputs": [],
   "source": [
    "from sklearn.tree import export_graphviz\n",
    "export_graphviz(dt,out_file='tree.dot')"
   ]
  },
  {
   "cell_type": "code",
   "execution_count": 142,
   "metadata": {},
   "outputs": [
    {
     "data": {
      "text/plain": [
       "Index(['DONOR_CATEGORY_Loyal       ', 'DONOR_CATEGORY_Reacquired  ',\n",
       "       'DONOR_CATEGORY_1st Time    ', 'Time_Since_Last_Gift_Days',\n",
       "       'NO_YRS_GIVING'],\n",
       "      dtype='object')"
      ]
     },
     "execution_count": 142,
     "metadata": {},
     "output_type": "execute_result"
    }
   ],
   "source": [
    "X.columns[[7832,7834,7830,12,2]]"
   ]
  },
  {
   "cell_type": "markdown",
   "metadata": {},
   "source": [
    "# Logistic Regression"
   ]
  },
  {
   "cell_type": "code",
   "execution_count": 78,
   "metadata": {},
   "outputs": [],
   "source": [
    "from sklearn.linear_model import LogisticRegression\n",
    "log_reg = LogisticRegression()"
   ]
  },
  {
   "cell_type": "code",
   "execution_count": 107,
   "metadata": {},
   "outputs": [
    {
     "name": "stderr",
     "output_type": "stream",
     "text": [
      "C:\\Users\\SARANG\\Anaconda3\\lib\\site-packages\\sklearn\\linear_model\\logistic.py:433: FutureWarning: Default solver will be changed to 'lbfgs' in 0.22. Specify a solver to silence this warning.\n",
      "  FutureWarning)\n"
     ]
    },
    {
     "data": {
      "text/plain": [
       "0.998457854794854"
      ]
     },
     "execution_count": 107,
     "metadata": {},
     "output_type": "execute_result"
    }
   ],
   "source": [
    "log_reg.fit(X_train,y_train)\n",
    "log_reg.score(X_train,y_train)"
   ]
  },
  {
   "cell_type": "code",
   "execution_count": 108,
   "metadata": {},
   "outputs": [
    {
     "data": {
      "text/plain": [
       "0.9987690559606098"
      ]
     },
     "execution_count": 108,
     "metadata": {},
     "output_type": "execute_result"
    }
   ],
   "source": [
    "log_reg.score(X_test,y_test)"
   ]
  },
  {
   "cell_type": "code",
   "execution_count": 72,
   "metadata": {},
   "outputs": [
    {
     "data": {
      "text/plain": [
       "<bound method BaseEstimator.get_params of LogisticRegression(C=1.0, class_weight=None, dual=False, fit_intercept=True,\n",
       "          intercept_scaling=1, max_iter=100, multi_class='warn',\n",
       "          n_jobs=None, penalty='l2', random_state=None, solver='warn',\n",
       "          tol=0.0001, verbose=0, warm_start=False)>"
      ]
     },
     "execution_count": 72,
     "metadata": {},
     "output_type": "execute_result"
    }
   ],
   "source": [
    "log_reg.coef_\n",
    "log_reg.get_params"
   ]
  },
  {
   "cell_type": "markdown",
   "metadata": {},
   "source": [
    "# Ensembling methods"
   ]
  },
  {
   "cell_type": "code",
   "execution_count": 114,
   "metadata": {},
   "outputs": [],
   "source": [
    "from sklearn.neighbors import KNeighborsClassifier as KNN\n",
    "from sklearn.ensemble import VotingClassifier"
   ]
  },
  {
   "cell_type": "code",
   "execution_count": 111,
   "metadata": {},
   "outputs": [],
   "source": [
    "lr = LogisticRegression(random_state=1)\n",
    "dt = DecisionTreeClassifier(random_state=1)\n",
    "knn = KNN()"
   ]
  },
  {
   "cell_type": "code",
   "execution_count": 113,
   "metadata": {},
   "outputs": [],
   "source": [
    "classifiers = [('Logistic Regression',lr),\n",
    "               ('Decision Classifier',dt),\n",
    "               ('KNNeighbor Classifier',knn)]"
   ]
  },
  {
   "cell_type": "code",
   "execution_count": 118,
   "metadata": {},
   "outputs": [
    {
     "name": "stderr",
     "output_type": "stream",
     "text": [
      "C:\\Users\\SARANG\\Anaconda3\\lib\\site-packages\\sklearn\\linear_model\\logistic.py:433: FutureWarning: Default solver will be changed to 'lbfgs' in 0.22. Specify a solver to silence this warning.\n",
      "  FutureWarning)\n"
     ]
    },
    {
     "name": "stdout",
     "output_type": "stream",
     "text": [
      "Logistic Regression : 0.999\n",
      "Decision Classifier : 1.000\n",
      "KNNeighbor Classifier : 0.992\n"
     ]
    }
   ],
   "source": [
    "for clf_name,clf in classifiers:\n",
    "    clf.fit(X_train,y_train)\n",
    "    y_pred = clf.predict(X_test)\n",
    "    print('{:s} : {:.3f}'.format(clf_name,accuracy_score(y_test,y_pred)))\n",
    "    "
   ]
  },
  {
   "cell_type": "code",
   "execution_count": 119,
   "metadata": {},
   "outputs": [
    {
     "name": "stderr",
     "output_type": "stream",
     "text": [
      "C:\\Users\\SARANG\\Anaconda3\\lib\\site-packages\\sklearn\\linear_model\\logistic.py:433: FutureWarning: Default solver will be changed to 'lbfgs' in 0.22. Specify a solver to silence this warning.\n",
      "  FutureWarning)\n"
     ]
    },
    {
     "name": "stdout",
     "output_type": "stream",
     "text": [
      "Voting Classifier: 0.999\n"
     ]
    }
   ],
   "source": [
    "vc = VotingClassifier(estimators=classifiers)\n",
    "vc.fit(X_train,y_train)\n",
    "y_pred = vc.predict(X_test)\n",
    "print('Voting Classifier: {:.3f}'.format(accuracy_score(y_test,y_pred)))"
   ]
  },
  {
   "cell_type": "code",
   "execution_count": 9,
   "metadata": {},
   "outputs": [
    {
     "name": "stderr",
     "output_type": "stream",
     "text": [
      "Using TensorFlow backend.\n"
     ]
    }
   ],
   "source": [
    "from keras.layers import Dense\n",
    "from keras.models import Sequential"
   ]
  },
  {
   "cell_type": "code",
   "execution_count": 10,
   "metadata": {},
   "outputs": [],
   "source": [
    "from keras.utils import to_categorical"
   ]
  },
  {
   "cell_type": "code",
   "execution_count": 11,
   "metadata": {},
   "outputs": [],
   "source": [
    "from keras.layers.advanced_activations import LeakyReLU\n"
   ]
  },
  {
   "cell_type": "code",
   "execution_count": 15,
   "metadata": {},
   "outputs": [
    {
     "name": "stdout",
     "output_type": "stream",
     "text": [
      "WARNING:tensorflow:From C:\\Users\\SARANG\\Anaconda3\\lib\\site-packages\\tensorflow\\python\\ops\\math_ops.py:3066: to_int32 (from tensorflow.python.ops.math_ops) is deprecated and will be removed in a future version.\n",
      "Instructions for updating:\n",
      "Use tf.cast instead.\n",
      "Train on 24641 samples, validate on 10561 samples\n",
      "Epoch 1/5\n",
      "24641/24641 [==============================] - 27s 1ms/step - loss: 14.7083 - acc: 0.0825 - val_loss: 16.0302 - val_acc: 0.0000e+00\n",
      "Epoch 2/5\n",
      "24641/24641 [==============================] - 26s 1ms/step - loss: 14.7083 - acc: 0.0825 - val_loss: 16.0302 - val_acc: 0.0000e+00\n",
      "Epoch 3/5\n",
      "24641/24641 [==============================] - 26s 1ms/step - loss: 14.7083 - acc: 0.0825 - val_loss: 16.0302 - val_acc: 0.0000e+00\n",
      "Epoch 4/5\n",
      "24641/24641 [==============================] - 25s 1ms/step - loss: 14.7083 - acc: 0.0825 - val_loss: 16.0302 - val_acc: 0.0000e+00\n",
      "Epoch 5/5\n",
      "24641/24641 [==============================] - 26s 1ms/step - loss: 14.7083 - acc: 0.0825 - val_loss: 16.0302 - val_acc: 0.0000e+00\n"
     ]
    }
   ],
   "source": [
    "predictors = X\n",
    "n_cols = predictors.shape[1]\n",
    "target = to_categorical(data.DONATED_1_0_2018)\n",
    "model = Sequential([Dense(100, activation='relu', input_shape = (n_cols,)),\n",
    "                    Dense(100, activation='relu'),\n",
    "                    Dense(2, activation='softmax')\n",
    "                   ])\n",
    "                    \n",
    "model.compile(optimizer='sgd', loss='binary_crossentropy',metrics=['accuracy'])\n",
    "hist = model.fit(predictors, target, validation_split = 0.3, epochs=5)"
   ]
  },
  {
   "cell_type": "code",
   "execution_count": 17,
   "metadata": {},
   "outputs": [],
   "source": [
    "import matplotlib.pyplot as plt"
   ]
  },
  {
   "cell_type": "code",
   "execution_count": 18,
   "metadata": {},
   "outputs": [
    {
     "data": {
      "image/png": "[encoded data removed]",
      "text/plain": [
       "<Figure size 432x288 with 1 Axes>"
      ]
     },
     "metadata": {
      "needs_background": "light"
     },
     "output_type": "display_data"
    }
   ],
   "source": [
    "# Visualizing the loss\n",
    "plt.plot(hist.history['loss'])\n",
    "plt.plot(hist.history['val_loss'])\n",
    "plt.title('Model Loss')\n",
    "plt.xlabel('Epoch')\n",
    "plt.ylabel('Loss')\n",
    "plt.legend(['Train','Val'], loc = 'upper right')\n",
    "plt.show()"
   ]
  },
  {
   "cell_type": "code",
   "execution_count": null,
   "metadata": {},
   "outputs": [],
   "source": [
    "# Visualizing the loss\n",
    "plt.plot(hist.history['acc'])\n",
    "plt.plot(hist.history['val_acc'])\n",
    "plt.title('Model Accuracy')\n",
    "plt.xlabel('Epoch')\n",
    "plt.ylabel('Accuracy')\n",
    "plt.legend(['Train','Val'], loc = 'lower right')\n",
    "plt.show()"
   ]
  }
 ],
 "metadata": {
  "kernelspec": {
   "display_name": "Python 3",
   "language": "python",
   "name": "python3"
  },
  "language_info": {
   "codemirror_mode": {
    "name": "ipython",
    "version": 3
   },
   "file_extension": ".py",
   "mimetype": "text/x-python",
   "name": "python",
   "nbconvert_exporter": "python",
   "pygments_lexer": "ipython3",
   "version": "3.7.3"
  }
 },
 "nbformat": 4,
 "nbformat_minor": 2
}
